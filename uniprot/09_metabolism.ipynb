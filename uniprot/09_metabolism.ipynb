{
 "cells": [
  {
   "cell_type": "markdown",
   "metadata": {
    "toc": true
   },
   "source": []
  },
  {
   "cell_type": "markdown",
   "metadata": {},
   "source": [
    "# Enzymes\n",
    "\n",
    "This notebook aims to show you how enzymes and their related data are represented in UniProt.  \n",
    "\n"
   ]
  },
  {
   "cell_type": "markdown",
   "metadata": {},
   "source": [
    "# Import Python package\n",
    "\n",
    "First we import rdflib which is a well known python library that gives RDF and its query language support to Python 3 (and Python 2).  \n"
   ]
  },
  {
   "cell_type": "code",
   "execution_count": 1,
   "metadata": {},
   "outputs": [],
   "source": [
    "from rdflib import Graph\n",
    "from SPARQLWrapper import SPARQLWrapper, JSON"
   ]
  },
  {
   "cell_type": "markdown",
   "metadata": {},
   "source": [
    "## Catatlytic activity\n",
    "\n",
    "A 'Catalytic activity' annotation describes a catalytic activity of an enzyme, i.e. a chemical reaction that the enzyme catalyzes. \n",
    "\n",
    "As UniProt to curates reactions at the level of specific enzymes we use chemical reaction descriptions from the Rhea database whenever possible. Rhea uses the ChEBI (Chemical Entities of Biological Interest) ontology to describe reaction participants that are small molecules as well as the reactive groups of large molecules (such as amino acid residues within proteins). These large molecules are identified by a RHEA-COMP identifier. For catalytic activities that can only be described in the form of free text, we follow the NC-IUBMB descriptions. We have also started to curate the physiological direction of a reaction, i.e. the direction of the net flow of reactants in vivo, where evidence for it is available.\n",
    "\n",
    "Due to their focus on nomenclature, cross-references to Enzyme Commission (EC) numbers have historically been added to the Protein names subsection of UniProtKB entries. To link the EC numbers to the reactions on which they are based, we also add them to 'Catalytic activity' annotations."
   ]
  },
  {
   "cell_type": "code",
   "execution_count": 14,
   "metadata": {},
   "outputs": [
    {
     "name": "stdout",
     "output_type": "stream",
     "text": [
      "http://purl.uniprot.org/uniport/A0A0S3QTD0#SIPEF5AED70D74ABDD4 http://purl.uniprot.org/core/catalyticActivity http://purl.uniprot.org/uniport/A0A0S3QTD0#SIP1A91565011EC50F6\n",
      "http://purl.uniprot.org/uniport/A0A0S3QTD0#SIPEF5AED70D74ABDD4 http://www.w3.org/1999/02/22-rdf-syntax-ns#type http://purl.uniprot.org/core/Catalytic_Activity_Annotation\n",
      "http://purl.uniprot.org/uniport/A0A0S3QTD0#SIPEF5AED70D74ABDD4 http://purl.uniprot.org/core/catalyzedPhysiologicalReaction http://rdf.rhea-db.org/16847\n",
      "http://purl.uniprot.org/uniport/A0A0S3QTD0#SIP1A91565011EC50F6 http://purl.uniprot.org/core/enzymeClass http://purl.uniprot.org/enzyme/2.3.3.16\n",
      "http://purl.uniprot.org/uniport/A0A0S3QTD0 http://purl.uniprot.org/core/annotation http://purl.uniprot.org/uniport/A0A0S3QTD0#SIPEF5AED70D74ABDD4\n",
      "http://purl.uniprot.org/uniport/A0A0S3QTD0#SIPEF5AED70D74ABDD4 http://purl.uniprot.org/core/catalyzedPhysiologicalReaction http://rdf.rhea-db.org/16846\n",
      "http://purl.uniprot.org/uniport/A0A0S3QTD0 http://www.w3.org/1999/02/22-rdf-syntax-ns#type http://purl.uniprot.org/core/Protein\n",
      "http://purl.uniprot.org/uniport/A0A0S3QTD0#SIP1A91565011EC50F6 http://purl.uniprot.org/core/catalyzedReaction http://rdf.rhea-db.org/16845\n",
      "http://purl.uniprot.org/uniport/A0A0S3QTD0#SIP1A91565011EC50F6 http://www.w3.org/1999/02/22-rdf-syntax-ns#type http://purl.uniprot.org/core/Catalytic_Activity\n"
     ]
    }
   ],
   "source": [
    "A0A0S3QTD0ttl = \"\"\"\n",
    "base <http://purl.uniprot.org/uniport/> \n",
    "prefix up: <http://purl.uniprot.org/core/> \n",
    "prefix foaf: <http://xmlns.com/foaf/0.1/> \n",
    "prefix owl: <http://www.w3.org/2002/07/owl#> \n",
    "prefix rdf: <http://www.w3.org/1999/02/22-rdf-syntax-ns#> \n",
    "prefix rdfs: <http://www.w3.org/2000/01/rdf-schema#> \n",
    "prefix skos: <http://www.w3.org/2004/02/skos/core#> \n",
    "prefix xsd: <http://www.w3.org/2001/XMLSchema#>\n",
    "prefix enzyme: <http://purl.uniprot.org/enzyme/> \n",
    "prefix isoform: <http://purl.uniprot.org/isoforms/> \n",
    "prefix faldo: <http://biohackathon.org/resource/faldo#>\n",
    "\n",
    "<A0A0S3QTD0> a up:Protein ;\n",
    "    up:annotation <A0A0S3QTD0#SIPEF5AED70D74ABDD4> .\n",
    "\n",
    "<A0A0S3QTD0#SIPEF5AED70D74ABDD4> rdf:type up:Catalytic_Activity_Annotation ;\n",
    "  up:catalyticActivity <A0A0S3QTD0#SIP1A91565011EC50F6> ;\n",
    "  up:catalyzedPhysiologicalReaction <http://rdf.rhea-db.org/16846> ,\n",
    "    <http://rdf.rhea-db.org/16847> .\n",
    "    \n",
    "<A0A0S3QTD0#SIP1A91565011EC50F6> rdf:type up:Catalytic_Activity ;\n",
    "  up:catalyzedReaction <http://rdf.rhea-db.org/16845> ;\n",
    "  up:enzymeClass enzyme:2.3.3.16 .\n",
    "\"\"\"\n",
    "\n",
    "A0A0S3QTD0=Graph().parse(format='ttl', data=A0A0S3QTD0ttl)\n",
    "\n",
    "for subj, pred, obj in A0A0S3QTD0:\n",
    "   print(subj, pred, obj)\n"
   ]
  },
  {
   "cell_type": "markdown",
   "metadata": {},
   "source": [
    "## Retrieve the annotated catalytic activity of a protein"
   ]
  },
  {
   "cell_type": "code",
   "execution_count": 3,
   "metadata": {},
   "outputs": [
    {
     "name": "stdout",
     "output_type": "stream",
     "text": [
      "The catatlytic activity of http://purl.uniprot.org/uniport/A0A0S3QTD0 catalyzes reaction http://rdf.rhea-db.org/16845 which is in EC http://purl.uniprot.org/enzyme/2.3.3.16\n"
     ]
    }
   ],
   "source": [
    "qres=A0A0S3QTD0.query(\"\"\"\n",
    "PREFIX up: <http://purl.uniprot.org/core/> \n",
    "PREFIX uniprotkb: <http://purl.uniprot.org/uniprot/>\n",
    "PREFIX skos: <http://www.w3.org/2004/02/skos/core#>\n",
    "\n",
    "SELECT ?protein ?reaction ?enzymeClass\n",
    "WHERE {\n",
    "  ?protein a up:Protein ;\n",
    "            up:annotation ?annotation .\n",
    "  ?annotation a up:Catalytic_Activity_Annotation ;\n",
    "            up:catalyticActivity ?activity . \n",
    "  ?activity up:catalyzedReaction ?reaction .\n",
    "  \n",
    "  OPTIONAL {\n",
    "        # Only a subset of all enzymatic activities is present in the Enzyme Classification\n",
    "        ?activity up:enzymeClass ?enzymeClass\n",
    "  }\n",
    "}\"\"\")\n",
    "\n",
    "for row in qres:\n",
    "    print(\"The catatlytic activity of %s catalyzes reaction %s which is in EC %s\" % row)"
   ]
  },
  {
   "cell_type": "markdown",
   "metadata": {},
   "source": [
    "## Catatalytic activity data\n",
    "\n",
    "**Properties**:\n",
    "- `catalyticActivity`  \n",
    "- `catalyzedReaction`  \n",
    "- `enzymeClass`  \n",
    "- `catalyzedPhysiologicalReaction`  "
   ]
  },
  {
   "cell_type": "markdown",
   "metadata": {},
   "source": [
    "## Ative Site\n",
    "\n",
    "Annotated active sites of enzymes in UniProtKB entries are annotated as so called `Active_Site_Annotations`. These are linked to positions on a sequence."
   ]
  },
  {
   "cell_type": "code",
   "execution_count": 15,
   "metadata": {},
   "outputs": [],
   "source": [
    "# The previous entry data now with an active site annotation with its range, region and positions added.\n",
    "\n",
    "A0A0S3QTD0ttl = A0A0S3QTD0ttl + \"\"\"\n",
    "<A0A0S3QTD0> up:annotation <A0A0S3QTD0#SIP0474AA62187DCADD> .\n",
    "<A0A0S3QTD0#SIP0474AA62187DCADD> rdf:type up:Active_Site_Annotation ;\n",
    "  up:range <http://purl.uniprot.org/range/-9218584541931438034tt274tt274> .\n",
    "<http://purl.uniprot.org/range/-9218584541931438034tt274tt274> rdf:type faldo:Region ;\n",
    "  faldo:begin <http://purl.uniprot.org/position/-9218584541931438034tt274> ;\n",
    "  faldo:end <http://purl.uniprot.org/position/-9218584541931438034tt274> .\n",
    "<http://purl.uniprot.org/position/-9218584541931438034tt274> rdf:type faldo:Position ,\n",
    "    faldo:ExactPosition ;\n",
    "  faldo:position 274 ;\n",
    "  faldo:reference isoform:A0A0S3QTD0-1 .\n",
    "isoform:A0A0S3QTD0-1 rdf:type up:Simple_Sequence ;\n",
    "  rdf:value \"MKLKERLAELIPQWRAEVAEIRKKYGNRKTMDCTIGHAYGGMRGLKALVCDTSEVFPDEGVKFRGYTIPELREGPHKLPTAEGGFEPLPEGLWYLLLTGELPTEEDVKEISAEFTKRMQNVPQYVFDVLRAMPVDTHPMTMFAAGILAMQRESVFAKRYEEGMRREEHWEAMLEDSLNMLAALPVIAAYIYRRKYKGDTHIAPDPNLDWSANLAHMMGFDDFEVYELFRLYMFLHSDHEGGNVSAHTNLLVNSAYSDIYRSFSAAMNGLAGPLHGLANQEVLRWIQMLYKKFGGVPTKEQLERFAWDTLNSGQVIPGYGHAVLRVTDPRYVAQRDFALKHLPDDELFKIVSLCYEVIPEVLKKHGKAKNPWPNVDAHSGVLLWHYGIREYDFYTVLFGVSRALGCTAQAILVRGYMLPIERPKSITTRWVKEVAESLPVAGS\" .\n",
    "\"\"\"\n",
    "A0A0S3QTD0=Graph().parse(format='ttl', data=A0A0S3QTD0ttl)"
   ]
  },
  {
   "cell_type": "code",
   "execution_count": 22,
   "metadata": {},
   "outputs": [
    {
     "name": "stdout",
     "output_type": "stream",
     "text": [
      "The active site of http://purl.uniprot.org/uniport/A0A0S3QTD0 is at 274 which is the following residue None\n"
     ]
    }
   ],
   "source": [
    "qres=A0A0S3QTD0.query(\"\"\"\n",
    "PREFIX up: <http://purl.uniprot.org/core/> \n",
    "PREFIX faldo: <http://biohackathon.org/resource/faldo#>\n",
    "\n",
    "SELECT ?protein ?activeSite ?activeSiteResidue\n",
    "WHERE {\n",
    "  ?protein a up:Protein ;\n",
    "            up:annotation ?annotation .\n",
    "  ?annotation a up:Active_Site_Annotation ;\n",
    "            up:range ?activeSiteRegion . \n",
    "  ?activeSiteRegion faldo:begin ?activeSiteBegin ;\n",
    "                    faldo:end ?activeSiteEnd .\n",
    "  ?activeSiteBegin faldo:position ?activeSite ;\n",
    "                   faldo:reference ?sequenceResource .\n",
    "  ?activeSiteEnd   faldo:position ?activeSite ;\n",
    "                   faldo:reference ?sequenceResource .\n",
    "  ?sequenceResource rdf:value ?sequence .\n",
    "  BIND(SUBSTR(?sequence, ?activeSiteBegin, (?activeSiteBegin - ?activeSiteEnd) +1) AS ?activeSiteResidue)\n",
    "}\"\"\")\n",
    "\n",
    "for row in qres:\n",
    "    print(\"The active site of %s is at %s which is the following residue %s\" % row)"
   ]
  },
  {
   "cell_type": "markdown",
   "metadata": {},
   "source": [
    "## Active Site Annotation data\n",
    "\n",
    "**Properties**:\n",
    "- `rdfs:comment`\n",
    "- `up:range`"
   ]
  },
  {
   "cell_type": "code",
   "execution_count": null,
   "metadata": {},
   "outputs": [],
   "source": []
  }
 ],
 "metadata": {
  "hide_input": false,
  "kernelspec": {
   "display_name": "Python 3 (ipykernel)",
   "language": "python",
   "name": "python3"
  },
  "language_info": {
   "codemirror_mode": {
    "name": "ipython",
    "version": 3
   },
   "file_extension": ".py",
   "mimetype": "text/x-python",
   "name": "python",
   "nbconvert_exporter": "python",
   "pygments_lexer": "ipython3",
   "version": "3.10.7"
  },
  "toc": {
   "base_numbering": 1,
   "nav_menu": {},
   "number_sections": false,
   "sideBar": true,
   "skip_h1_title": false,
   "title_cell": "Table of Contents",
   "title_sidebar": "Contents",
   "toc_cell": true,
   "toc_position": {},
   "toc_section_display": true,
   "toc_window_display": false
  }
 },
 "nbformat": 4,
 "nbformat_minor": 4
}
